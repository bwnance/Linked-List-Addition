{
 "cells": [
  {
   "cell_type": "code",
   "execution_count": 1,
   "metadata": {},
   "outputs": [
    {
     "data": {
      "text/plain": [
       ":initialize"
      ]
     },
     "execution_count": 1,
     "metadata": {},
     "output_type": "execute_result"
    }
   ],
   "source": [
    "#node class\n",
    "class Node\n",
    "    attr_accessor :val, :next\n",
    "    def initialize(val = nil)\n",
    "        @val = val\n",
    "        @next = nil\n",
    "    end\n",
    "end"
   ]
  },
  {
   "cell_type": "code",
   "execution_count": 2,
   "metadata": {},
   "outputs": [
    {
     "data": {
      "text/plain": [
       ":add"
      ]
     },
     "execution_count": 2,
     "metadata": {},
     "output_type": "execute_result"
    }
   ],
   "source": [
    "\n",
    "def add(h1, h2)\n",
    "    current = Node.new()\n",
    "    parent = nil\n",
    "    head = current\n",
    "    remainder = 0\n",
    "    while(h1 || h2)\n",
    "        h1_val = h1 ? h1.val : 0\n",
    "        h2_val = h2 ? h2.val : 0\n",
    "        sum = h1_val + h2_val + remainder\n",
    "        if sum >= 10\n",
    "            remainder = sum / 10\n",
    "            sum = sum - 10\n",
    "        else\n",
    "            remainder = 0\n",
    "        end\n",
    "        h1 = h1 ? h1.next : nil\n",
    "        h2 = h2 ? h2.next : nil\n",
    "        current.val = sum\n",
    "        parent = current\n",
    "        current.next = Node.new()\n",
    "        current = current.next\n",
    "    end\n",
    "    # copy_nodes!(h1, parent) if(h1)\n",
    "    # copy_nodes!(h2, parent) if(h2)\n",
    "    if remainder != 0\n",
    "        current.val = remainder\n",
    "        \n",
    "    else\n",
    "        parent.next = nil;\n",
    "    end\n",
    "    head\n",
    "end"
   ]
  },
  {
   "cell_type": "code",
   "execution_count": 4,
   "metadata": {},
   "outputs": [
    {
     "data": {
      "text/plain": [
       ":linked_list_from_num"
      ]
     },
     "execution_count": 4,
     "metadata": {},
     "output_type": "execute_result"
    }
   ],
   "source": [
    "#helpers for making linked lists, etc\n",
    "def linked_list_from_num(n)\n",
    "    current = Node.new()\n",
    "    head = current\n",
    "    parent = nil\n",
    "    n.digits.each do |d|\n",
    "        current.val = d \n",
    "        parent = current\n",
    "        current.next = Node.new()\n",
    "        current = current.next\n",
    "    end\n",
    "    parent.next = nil\n",
    "    head\n",
    "end\n"
   ]
  },
  {
   "cell_type": "code",
   "execution_count": 5,
   "metadata": {},
   "outputs": [
    {
     "data": {
      "text/plain": [
       ":num_from_linked_list"
      ]
     },
     "execution_count": 5,
     "metadata": {},
     "output_type": "execute_result"
    }
   ],
   "source": [
    "def num_from_linked_list(head)\n",
    "    res_node = head\n",
    "    result = []\n",
    "    while res_node\n",
    "        result << res_node.val\n",
    "        res_node = res_node.next\n",
    "    end\n",
    "    result.reverse().join().to_i\n",
    "end"
   ]
  },
  {
   "cell_type": "code",
   "execution_count": 6,
   "metadata": {},
   "outputs": [
    {
     "data": {
      "text/plain": [
       "100110"
      ]
     },
     "execution_count": 6,
     "metadata": {},
     "output_type": "execute_result"
    }
   ],
   "source": [
    "n1 = 99999\n",
    "n2 = 111\n",
    "h1 = linked_list_from_num(n1)\n",
    "h2 = linked_list_from_num(n2)\n",
    "result = num_from_linked_list(add(h1, h2))\n",
    "result"
   ]
  },
  {
   "cell_type": "code",
   "execution_count": null,
   "metadata": {},
   "outputs": [],
   "source": []
  },
  {
   "cell_type": "code",
   "execution_count": null,
   "metadata": {},
   "outputs": [],
   "source": []
  }
 ],
 "metadata": {
  "kernelspec": {
   "display_name": "Ruby 2.6.2",
   "language": "ruby",
   "name": "ruby"
  },
  "language_info": {
   "file_extension": ".rb",
   "mimetype": "application/x-ruby",
   "name": "ruby",
   "version": "2.6.2"
  }
 },
 "nbformat": 4,
 "nbformat_minor": 2
}
